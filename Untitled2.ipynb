{
  "nbformat": 4,
  "nbformat_minor": 0,
  "metadata": {
    "colab": {
      "name": "Untitled2.ipynb",
      "provenance": []
    },
    "kernelspec": {
      "name": "python3",
      "display_name": "Python 3"
    },
    "language_info": {
      "name": "python"
    }
  },
  "cells": [
    {
      "cell_type": "markdown",
      "metadata": {
        "id": "zMMpxwPYxW8Y"
      },
      "source": [
        "go through other inbuilt methods like remove(),count(),clear(),sort(),reverse()\n",
        "\n"
      ]
    },
    {
      "cell_type": "code",
      "metadata": {
        "id": "HGK_cYHExbyu"
      },
      "source": [
        "list=[1,2,3,4,]"
      ],
      "execution_count": 1,
      "outputs": []
    },
    {
      "cell_type": "code",
      "metadata": {
        "id": "P6wBU1c8xfol"
      },
      "source": [
        "list.remove(1)"
      ],
      "execution_count": 3,
      "outputs": []
    },
    {
      "cell_type": "code",
      "metadata": {
        "colab": {
          "base_uri": "https://localhost:8080/"
        },
        "id": "HLWGFVEaxmh3",
        "outputId": "2a2feb2e-4b76-4fea-846f-55c4a80cb4d0"
      },
      "source": [
        "print(list)"
      ],
      "execution_count": 4,
      "outputs": [
        {
          "output_type": "stream",
          "name": "stdout",
          "text": [
            "[2, 3, 4]\n"
          ]
        }
      ]
    },
    {
      "cell_type": "markdown",
      "metadata": {
        "id": "D7bZXO0pxqTN"
      },
      "source": [
        "print(list.count(2))"
      ]
    },
    {
      "cell_type": "code",
      "metadata": {
        "id": "oT1RZ_G6xvih"
      },
      "source": [
        "list.clear()"
      ],
      "execution_count": 9,
      "outputs": []
    },
    {
      "cell_type": "code",
      "metadata": {
        "colab": {
          "base_uri": "https://localhost:8080/"
        },
        "id": "Tit7jLGSySCH",
        "outputId": "afa9a007-e269-450e-89b5-d895d9213858"
      },
      "source": [
        "print(list)"
      ],
      "execution_count": 10,
      "outputs": [
        {
          "output_type": "stream",
          "name": "stdout",
          "text": [
            "[]\n"
          ]
        }
      ]
    },
    {
      "cell_type": "code",
      "metadata": {
        "id": "y3dD9Q_6yV7P"
      },
      "source": [
        "list1=[3,1,6,2,9,4]"
      ],
      "execution_count": 11,
      "outputs": []
    },
    {
      "cell_type": "code",
      "metadata": {
        "id": "4A1XACQMy2tW"
      },
      "source": [
        "list1.sort()"
      ],
      "execution_count": 14,
      "outputs": []
    },
    {
      "cell_type": "code",
      "metadata": {
        "colab": {
          "base_uri": "https://localhost:8080/"
        },
        "id": "mQWioDC2zNsv",
        "outputId": "e8f9949e-6506-4af8-c9d2-2477dc4ca1bf"
      },
      "source": [
        "print(list1)"
      ],
      "execution_count": 15,
      "outputs": [
        {
          "output_type": "stream",
          "name": "stdout",
          "text": [
            "[1, 2, 3, 4, 6, 9]\n"
          ]
        }
      ]
    },
    {
      "cell_type": "code",
      "metadata": {
        "id": "9dnSHRTZz0il"
      },
      "source": [
        "list1.reverse(\n",
        ")"
      ],
      "execution_count": 16,
      "outputs": []
    },
    {
      "cell_type": "code",
      "metadata": {
        "colab": {
          "base_uri": "https://localhost:8080/"
        },
        "id": "Mn4lbs9Vz5xn",
        "outputId": "284a3fe0-c797-4bab-d146-b4855ebd584c"
      },
      "source": [
        "print(list1)"
      ],
      "execution_count": 17,
      "outputs": [
        {
          "output_type": "stream",
          "name": "stdout",
          "text": [
            "[9, 6, 4, 3, 2, 1]\n"
          ]
        }
      ]
    },
    {
      "cell_type": "markdown",
      "metadata": {
        "id": "3qA7vd_D0Da8"
      },
      "source": [
        "# create a list of lenght = 10 and access 5th to 8th data."
      ]
    },
    {
      "cell_type": "markdown",
      "metadata": {
        "id": "shKIbIQ60Sz_"
      },
      "source": [
        ""
      ]
    },
    {
      "cell_type": "code",
      "metadata": {
        "id": "8852PsyR0F15"
      },
      "source": [
        "list2=[1,2,3,4,5,6,7,8,9,0]"
      ],
      "execution_count": 18,
      "outputs": []
    },
    {
      "cell_type": "code",
      "metadata": {
        "colab": {
          "base_uri": "https://localhost:8080/"
        },
        "id": "oYrP9lQM0N3-",
        "outputId": "b3ad7991-f54a-43e7-a02d-1d1f4287aee4"
      },
      "source": [
        "print(list2[5:9:3])"
      ],
      "execution_count": 19,
      "outputs": [
        {
          "output_type": "stream",
          "name": "stdout",
          "text": [
            "[6, 9]\n"
          ]
        }
      ]
    },
    {
      "cell_type": "code",
      "metadata": {
        "id": "YIjgiE4-0dP5"
      },
      "source": [
        "#Add item 70 after 60 in the following Python List\n",
        "#input\n",
        "l1 = [10, 20, [30, 40, [50, 60], 80], 90, 100]\n"
      ],
      "execution_count": 20,
      "outputs": []
    },
    {
      "cell_type": "code",
      "metadata": {
        "id": "GB3SSsUZ-SAA"
      },
      "source": [
        "l1[2][2].append(70)"
      ],
      "execution_count": 24,
      "outputs": []
    },
    {
      "cell_type": "code",
      "metadata": {
        "colab": {
          "base_uri": "https://localhost:8080/"
        },
        "id": "SKokUjxQ-pfr",
        "outputId": "e156a1fd-3c8c-46ec-fd3c-bccc2859d72a"
      },
      "source": [
        "l1"
      ],
      "execution_count": 25,
      "outputs": [
        {
          "output_type": "execute_result",
          "data": {
            "text/plain": [
              "[10, 20, [30, 40, [50, 60, 70], 80], 90, 100]"
            ]
          },
          "metadata": {},
          "execution_count": 25
        }
      ]
    },
    {
      "cell_type": "code",
      "metadata": {
        "id": "xXaXTylx--_3"
      },
      "source": [
        "#add sublist [7,8] after 6\n",
        "\n",
        "#input\n",
        "l2 = [1,2,[3,4,5,6],9]"
      ],
      "execution_count": 32,
      "outputs": []
    },
    {
      "cell_type": "code",
      "metadata": {
        "id": "nYgyiG_C_gyJ"
      },
      "source": [
        "l3=[7,8]\n",
        "l2[2].append(l3\n",
        "             )"
      ],
      "execution_count": 35,
      "outputs": []
    },
    {
      "cell_type": "code",
      "metadata": {
        "colab": {
          "base_uri": "https://localhost:8080/"
        },
        "id": "aOBHie6QAADb",
        "outputId": "5074c29a-e145-4505-be2c-7d1bf7677304"
      },
      "source": [
        "l2"
      ],
      "execution_count": 36,
      "outputs": [
        {
          "output_type": "execute_result",
          "data": {
            "text/plain": [
              "[1, 2, [3, 4, 5, 6, 3, [7, 8]], 9]"
            ]
          },
          "metadata": {},
          "execution_count": 36
        }
      ]
    },
    {
      "cell_type": "code",
      "metadata": {
        "id": "ow9t7BRg_5lN"
      },
      "source": [
        ""
      ],
      "execution_count": null,
      "outputs": []
    }
  ]
}