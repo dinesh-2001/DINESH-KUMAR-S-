{
  "nbformat": 4,
  "nbformat_minor": 0,
  "metadata": {
    "colab": {
      "name": "ANN.ipynb",
      "provenance": [],
      "authorship_tag": "ABX9TyMcGNI6Ua3092jSXt5j+Kax",
      "include_colab_link": true
    },
    "kernelspec": {
      "name": "python3",
      "display_name": "Python 3"
    },
    "language_info": {
      "name": "python"
    }
  },
  "cells": [
    {
      "cell_type": "markdown",
      "metadata": {
        "id": "view-in-github",
        "colab_type": "text"
      },
      "source": [
        "<a href=\"https://colab.research.google.com/github/dinesh-2001/DINESH-KUMAR-S-ADS/blob/main/ANN.ipynb\" target=\"_parent\"><img src=\"https://colab.research.google.com/assets/colab-badge.svg\" alt=\"Open In Colab\"/></a>"
      ]
    },
    {
      "cell_type": "code",
      "execution_count": null,
      "metadata": {
        "id": "DiysUqrAwhJQ"
      },
      "outputs": [],
      "source": [
        "import tensorflow as tf\n",
        "import numpy as np\n",
        "from tensorflow.keras.datasets import mnist\n",
        "\n"
      ]
    },
    {
      "cell_type": "code",
      "source": [
        "(x_train,y_train),(x_test,y_test)=mnist.load_data()"
      ],
      "metadata": {
        "colab": {
          "base_uri": "https://localhost:8080/"
        },
        "id": "vIyt2Bv-wry0",
        "outputId": "c22e12e8-8809-42aa-bac5-799051a56946"
      },
      "execution_count": null,
      "outputs": [
        {
          "output_type": "stream",
          "name": "stdout",
          "text": [
            "Downloading data from https://storage.googleapis.com/tensorflow/tf-keras-datasets/mnist.npz\n",
            "11493376/11490434 [==============================] - 0s 0us/step\n",
            "11501568/11490434 [==============================] - 0s 0us/step\n"
          ]
        }
      ]
    },
    {
      "cell_type": "code",
      "source": [
        "def get_batch(x_data,y_data,batch_size):\n",
        "  idxs=np.random.randint(0,len(y_data),batch_size)\n",
        "  return x_data[idxs],y_data[idxs]"
      ],
      "metadata": {
        "id": "LRknGVOI2GEr"
      },
      "execution_count": null,
      "outputs": []
    },
    {
      "cell_type": "code",
      "source": [
        "epochs=10\n",
        "batch_size=100\n",
        "x_train=x_train/255.0\n",
        "x_test=x_test/255.0\n",
        "x_test=tf.Variable(x_test)\n"
      ],
      "metadata": {
        "id": "ockSWiyO3ptA"
      },
      "execution_count": null,
      "outputs": []
    },
    {
      "cell_type": "code",
      "source": [
        "W1=tf.Variable(tf.random.normal([784,300],stddev=0.001),name='W1')\n",
        "B1=tf.Variable(tf.random.normal([300]),name='B1')\n",
        "W2=tf.Variable(tf.random.normal([300,10],stddev=0.03),name='W2')\n",
        "B2=tf.Variable(tf.random.normal([10]),name='B2')\n"
      ],
      "metadata": {
        "id": "MoO6og9z4pF8"
      },
      "execution_count": null,
      "outputs": []
    },
    {
      "cell_type": "code",
      "source": [
        "def nn_model(x_input,W1,B1,W2,B2):\n",
        "  x_input=np.reshape(x_input,(x_input.shape[0],-1))\n",
        "  x=tf.add(tf.matmul(tf.cast(x_input,tf.float32),W1),B1)\n",
        "  x=tf.nn.relu(x)\n",
        "  logits=tf.add(tf.matmul(x,W2),B2)\n",
        "  return logits\n",
        "\n"
      ],
      "metadata": {
        "id": "BvgbjSmx4ijj"
      },
      "execution_count": null,
      "outputs": []
    },
    {
      "cell_type": "code",
      "source": [
        "def loss_fn(logits,labels):\n",
        "  cross_entropy=tf.reduce_mean(tf.nn.softmax_cross_entropy_with_logits(logits=logits,labels=labels))\n",
        "  return cross_entropy"
      ],
      "metadata": {
        "id": "e4drgjC-7UJU"
      },
      "execution_count": null,
      "outputs": []
    },
    {
      "cell_type": "code",
      "source": [
        "optimizer=tf.keras.optimizers.Adam()"
      ],
      "metadata": {
        "id": "rKfaix0GC6Qx"
      },
      "execution_count": null,
      "outputs": []
    },
    {
      "cell_type": "code",
      "source": [
        "total_batch=int(len(y_train)/batch_size)\n",
        "print(total_batch)\n",
        "for epoch in range(epochs):\n",
        "  avg_loss=0\n",
        "  for i in range(total_batch):\n",
        "    batch_x,batch_y=get_batch(x_train,y_train,batch_size=batch_size)\n",
        "    batch_x = tf.Variable(batch_x)\n",
        "    batch_y = tf.Variable(batch_y)\n",
        "    batch_y=tf.one_hot(batch_y,10)\n",
        "    with tf.GradientTape() as tape:\n",
        "      logits=nn_model(batch_x,W1,B1,W2,B2)\n",
        "      loss=loss_fn(logits,batch_y)\n",
        "    gradient=tape.gradient(loss,[W1,B1,W2,B2])\n",
        "    optimizer.apply_gradients(zip(gradient,[W1,B1,W2,B2]))\n",
        "    avg_loss+=loss/total_batch\n",
        "  test_logits = nn_model(x_test, W1, B1, W2, B2)\n",
        "  max_idxs = tf.argmax(test_logits, axis=1)\n",
        "  test_acc = np.sum(max_idxs.numpy() == y_test) / len(y_test)\n",
        "  print(f\"Epoch: {epoch + 1}, loss={avg_loss:.3f}, test set      accuracy={test_acc*100:.3f}%\")\n"
      ],
      "metadata": {
        "colab": {
          "base_uri": "https://localhost:8080/"
        },
        "id": "89lChBq8DGPe",
        "outputId": "870661ad-39fd-45e2-c37c-feee0f249e26"
      },
      "execution_count": null,
      "outputs": [
        {
          "output_type": "stream",
          "name": "stdout",
          "text": [
            "600\n",
            "Epoch: 1, loss=2.284, test set      accuracy=10.770%\n",
            "Epoch: 2, loss=2.267, test set      accuracy=13.060%\n",
            "Epoch: 3, loss=2.263, test set      accuracy=17.130%\n",
            "Epoch: 4, loss=2.261, test set      accuracy=19.430%\n",
            "Epoch: 5, loss=2.258, test set      accuracy=32.730%\n",
            "Epoch: 6, loss=2.253, test set      accuracy=9.820%\n",
            "Epoch: 7, loss=2.247, test set      accuracy=21.690%\n",
            "Epoch: 8, loss=2.240, test set      accuracy=14.960%\n",
            "Epoch: 9, loss=2.231, test set      accuracy=37.860%\n",
            "Epoch: 10, loss=2.221, test set      accuracy=52.360%\n"
          ]
        }
      ]
    },
    {
      "cell_type": "code",
      "source": [
        ""
      ],
      "metadata": {
        "id": "nKUCNDPkTUuy"
      },
      "execution_count": null,
      "outputs": []
    }
  ]
}