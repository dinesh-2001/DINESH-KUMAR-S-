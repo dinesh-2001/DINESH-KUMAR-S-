{
  "nbformat": 4,
  "nbformat_minor": 0,
  "metadata": {
    "colab": {
      "name": "TASK_7.ipynb",
      "provenance": []
    },
    "kernelspec": {
      "name": "python3",
      "display_name": "Python 3"
    },
    "language_info": {
      "name": "python"
    }
  },
  "cells": [
    {
      "cell_type": "code",
      "execution_count": null,
      "metadata": {
        "id": "Tpp26VQa114Q"
      },
      "outputs": [],
      "source": [
        "#symetric_differnce in set"
      ]
    },
    {
      "cell_type": "code",
      "source": [
        "a={1,2,3,4}\n",
        "b={2,3,6,7}\n",
        "\n"
      ],
      "metadata": {
        "id": "UAt6dcx721CQ"
      },
      "execution_count": 2,
      "outputs": []
    },
    {
      "cell_type": "code",
      "source": [
        "print(a.symmetric_difference(b))"
      ],
      "metadata": {
        "colab": {
          "base_uri": "https://localhost:8080/"
        },
        "id": "O_IyqVTO294a",
        "outputId": "1b315f7b-400a-42c6-98c5-2ea9bff82e93"
      },
      "execution_count": 3,
      "outputs": [
        {
          "output_type": "stream",
          "name": "stdout",
          "text": [
            "{1, 4, 6, 7}\n"
          ]
        }
      ]
    },
    {
      "cell_type": "code",
      "source": [
        "print(a.difference(b))"
      ],
      "metadata": {
        "colab": {
          "base_uri": "https://localhost:8080/"
        },
        "id": "CQ1V-4EP3IjO",
        "outputId": "4c12fa6d-3390-48bc-fbc6-c0ef4c38dc44"
      },
      "execution_count": 4,
      "outputs": [
        {
          "output_type": "stream",
          "name": "stdout",
          "text": [
            "{1, 4}\n"
          ]
        }
      ]
    },
    {
      "cell_type": "code",
      "source": [
        ""
      ],
      "metadata": {
        "id": "Fzcmp1cB4nGm"
      },
      "execution_count": null,
      "outputs": []
    },
    {
      "cell_type": "markdown",
      "source": [
        "there are 4 types of datastructure\n",
        "*list- its muttable,Can store different data types,indexing and slicing are possible\n",
        "*tuple - ist immuttable,can store differnt data types,indexing and slicing is possible\n",
        "*dictinary - its has unquie keys and values,can store differnt data types,indexing is possible\n",
        "*set - its muttable ,can store different data types,indexing and slicing is not possible,dupplicates are not possible "
      ],
      "metadata": {
        "id": "y-d28ccM3RDJ"
      }
    }
  ]
}