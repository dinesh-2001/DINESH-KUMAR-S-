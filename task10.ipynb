{
  "nbformat": 4,
  "nbformat_minor": 0,
  "metadata": {
    "colab": {
      "name": "task10.ipynb",
      "provenance": []
    },
    "kernelspec": {
      "name": "python3",
      "display_name": "Python 3"
    },
    "language_info": {
      "name": "python"
    }
  },
  "cells": [
    {
      "cell_type": "markdown",
      "source": [
        ""
      ],
      "metadata": {
        "id": "1jfY4VWae8Zy"
      }
    },
    {
      "cell_type": "code",
      "source": [
        "\"\"\"Task 10.1 = what is the uasge of continue wiith an example.\n",
        "Task 10.2 What is pass keyword, with example.\n",
        "Task10\n",
        "using while loop print numbers from 10 to 1\n",
        "try using for loop to loop over tuples,sets and dictionaries"
      ],
      "metadata": {
        "id": "_3Mg7AWadQCS"
      },
      "execution_count": null,
      "outputs": []
    },
    {
      "cell_type": "code",
      "source": [
        "\"\"\"continue is used to carry forward the loop to the start point of the loop\n",
        "  eg:\n",
        "     for i in range(1,10):\n",
        "       if(i==n):\n",
        "         print(i)\n",
        "       else:\n",
        "         continue()\n",
        "  pass is used to excute the loop without any set of statments in the loop.\n",
        "  for i in range(0,10):\n",
        "    pass()\n",
        "   "
      ],
      "metadata": {
        "id": "M4D0IWn2fWDj"
      },
      "execution_count": null,
      "outputs": []
    },
    {
      "cell_type": "code",
      "source": [
        "t=(1,2,3)\n",
        "for i in t:\n",
        "  print(i)"
      ],
      "metadata": {
        "colab": {
          "base_uri": "https://localhost:8080/"
        },
        "id": "2XRu05dUgvOE",
        "outputId": "05ee6976-00d4-430c-f488-2c39c1307fd0"
      },
      "execution_count": 13,
      "outputs": [
        {
          "output_type": "stream",
          "name": "stdout",
          "text": [
            "1\n",
            "2\n",
            "3\n"
          ]
        }
      ]
    },
    {
      "cell_type": "code",
      "source": [
        ""
      ],
      "metadata": {
        "id": "wIj-qmFSg29j"
      },
      "execution_count": null,
      "outputs": []
    }
  ]
}