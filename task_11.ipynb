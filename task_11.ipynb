{
  "nbformat": 4,
  "nbformat_minor": 0,
  "metadata": {
    "colab": {
      "name": "task 11.ipynb",
      "provenance": []
    },
    "kernelspec": {
      "name": "python3",
      "display_name": "Python 3"
    },
    "language_info": {
      "name": "python"
    }
  },
  "cells": [
    {
      "cell_type": "code",
      "execution_count": null,
      "metadata": {
        "id": "oNmUxCfCiGjH"
      },
      "outputs": [],
      "source": [
        "#return keyword is used to return a value from th e functon"
      ]
    },
    {
      "cell_type": "code",
      "source": [
        "def add(a=0,b=0):\n",
        "  return a+b\n",
        "def sub(a=0,b=0):\n",
        "  return a-b\n",
        "def multi(a=1,b=1):\n",
        "  return a*b\n",
        "def div(a,b):\n",
        "  if(a<b):\n",
        "    return b/a\n",
        "  else:\n",
        "    return a/b\n",
        "a,b=input().split()\n",
        "a,b=[int(a),int(b)]\n",
        "n=int(input(\"choose the operation to perform 1.add 2.sub 3.multiplication 4.division\"))\n",
        "if(n==1):\n",
        "  print(add(a,b))\n",
        "elif(n==2):\n",
        "  print(sub(a,b))\n",
        "elif(n==3):\n",
        "  print(multi(a,b))\n",
        "elif(n==4):\n",
        "  print(div(a,b))\n",
        "\n"
      ],
      "metadata": {
        "colab": {
          "base_uri": "https://localhost:8080/"
        },
        "id": "R56bMNHdiQY3",
        "outputId": "7981ddf7-67f3-4efb-ec49-f9e3d415190e"
      },
      "execution_count": 6,
      "outputs": [
        {
          "output_type": "stream",
          "name": "stdout",
          "text": [
            "4 8\n",
            "choose the operation to perform 1.add 2.sub 3.multiplication 4.division4\n",
            "2.0\n"
          ]
        }
      ]
    }
  ]
}