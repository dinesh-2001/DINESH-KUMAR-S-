{
  "nbformat": 4,
  "nbformat_minor": 0,
  "metadata": {
    "colab": {
      "name": "task10.ipynb",
      "provenance": []
    },
    "kernelspec": {
      "name": "python3",
      "display_name": "Python 3"
    },
    "language_info": {
      "name": "python"
    }
  },
  "cells": [
    {
      "cell_type": "markdown",
      "source": [
        "Task 11.1\n",
        "Explain Return keyword with example.\n",
        "Task11.2\n",
        "Ask 2 numbers from users and store it in num1 and num2\n",
        "Ask user to press 1 for addition,2 for subtraction,3 for multiplication and 4 for division\n",
        "create 4 seperate functions for each operation (i.e. addition,subtraction,multiplication and division)\n",
        "based on number given by user,call that perticular function and print the output"
      ],
      "metadata": {
        "id": "1jfY4VWae8Zy"
      }
    },
    {
      "cell_type": "markdown",
      "source": [
        "return keyword is used to return a value from the operation done in the function. "
      ],
      "metadata": {
        "id": "tTvoRqGdhxlQ"
      }
    },
    {
      "cell_type": "code",
      "source": [
        "def name():\n",
        "  x=input()\n",
        "  return x\n"
      ],
      "metadata": {
        "id": "wIj-qmFSg29j"
      },
      "execution_count": 14,
      "outputs": []
    },
    {
      "cell_type": "code",
      "source": [
        "name()"
      ],
      "metadata": {
        "colab": {
          "base_uri": "https://localhost:8080/",
          "height": 54
        },
        "id": "RSzHDshNiQg7",
        "outputId": "9ae80de3-555a-42d9-e942-31fdeb93395f"
      },
      "execution_count": 15,
      "outputs": [
        {
          "name": "stdout",
          "output_type": "stream",
          "text": [
            "dinesh\n"
          ]
        },
        {
          "output_type": "execute_result",
          "data": {
            "application/vnd.google.colaboratory.intrinsic+json": {
              "type": "string"
            },
            "text/plain": [
              "'dinesh'"
            ]
          },
          "metadata": {},
          "execution_count": 15
        }
      ]
    },
    {
      "cell_type": "code",
      "source": [
        "x,y=input().split()\n",
        "x,y=[int(x),int(y)]\n",
        "n=int(input(\"1-multiply,2-add,3-sub,4-div\"))\n",
        "if(n==1):\n",
        "  print(x*y)\n",
        "elif(n==2):\n",
        "  print(x+y)\n",
        "elif(n==3):\n",
        "  print(x-y)\n",
        "elif(n==4):\n",
        "  if(x>y):\n",
        "    print(x/y)\n",
        "  else:\n",
        "    print(y/x)\n",
        "else:\n",
        "  print(\"enter the correct option!!! \")"
      ],
      "metadata": {
        "id": "iUiHR-p8iSdB"
      },
      "execution_count": null,
      "outputs": []
    }
  ]
}