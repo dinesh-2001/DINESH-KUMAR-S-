{
  "nbformat": 4,
  "nbformat_minor": 0,
  "metadata": {
    "colab": {
      "name": "task9.ipynb",
      "provenance": []
    },
    "kernelspec": {
      "name": "python3",
      "display_name": "Python 3"
    },
    "language_info": {
      "name": "python"
    }
  },
  "cells": [
    {
      "cell_type": "markdown",
      "source": [
        "Task9\n",
        "Ask 2 numbers from users and store it in num1 and num2\n",
        "Ask user to press 1 for addition,2 for subtraction,3 for multiplication and 4 for division\n",
        "based on number given by user do the math **operation**"
      ],
      "metadata": {
        "id": "m8UiVB2lbAn7"
      }
    },
    {
      "cell_type": "code",
      "source": [
        "x,y=input().split()\n",
        "x,y=[int(x),int(y)]\n",
        "n=int(input(\"1-multiply,2-add,3-sub,4-div\"))\n",
        "if(n==1):\n",
        "  print(x*y)\n",
        "elif(n==2):\n",
        "  print(x+y)\n",
        "elif(n==3):\n",
        "  print(x-y)\n",
        "elif(n==4):\n",
        "  if(x>y):\n",
        "    print(x/y)\n",
        "  else:\n",
        "    print(y/x)\n",
        "else:\n",
        "  print(\"enter the correct option!!! \")\n"
      ],
      "metadata": {
        "colab": {
          "base_uri": "https://localhost:8080/"
        },
        "id": "ThzmU43Ecgr1",
        "outputId": "bd19d45c-0874-4806-fc89-f256243745e8"
      },
      "execution_count": 10,
      "outputs": [
        {
          "output_type": "stream",
          "name": "stdout",
          "text": [
            "2 4\n",
            "1-multiply,2-add,3-sub,4-div5\n",
            "enter the correct option!!! \n"
          ]
        }
      ]
    },
    {
      "cell_type": "code",
      "source": [
        ""
      ],
      "metadata": {
        "id": "_3Mg7AWadQCS"
      },
      "execution_count": null,
      "outputs": []
    }
  ]
}