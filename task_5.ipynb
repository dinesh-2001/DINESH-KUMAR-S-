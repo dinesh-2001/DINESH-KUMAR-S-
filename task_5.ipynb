{
  "nbformat": 4,
  "nbformat_minor": 0,
  "metadata": {
    "colab": {
      "name": "task 5.ipynb",
      "provenance": []
    },
    "kernelspec": {
      "name": "python3",
      "display_name": "Python 3"
    },
    "language_info": {
      "name": "python"
    }
  },
  "cells": [
    {
      "cell_type": "code",
      "source": [
        "From the above dictionary, do the following tasks\n",
        "\n",
        "access \"Mike\"\n",
        "access 80\n",
        "change \"Mike\" to \"Your name\"\n",
        "add ML = 80 and DL = 80 inside marks"
      ],
      "metadata": {
        "id": "ZhjyCseRw9Sg"
      },
      "execution_count": null,
      "outputs": []
    },
    {
      "cell_type": "code",
      "execution_count": 1,
      "metadata": {
        "id": "qrCFiDQLwp9b"
      },
      "outputs": [],
      "source": [
        "dict1 = { \n",
        "   \"april_batch\":{ \n",
        "      \"student\":{ \n",
        "         \"name\":\"Mike\",\n",
        "         \"marks\":{ \n",
        "            \"python\":80,\n",
        "            \"maths\":70\n",
        "         }\n",
        "      }\n",
        "   }\n",
        "}"
      ]
    },
    {
      "cell_type": "code",
      "source": [
        "dict1['april_batch']['student']['name']"
      ],
      "metadata": {
        "colab": {
          "base_uri": "https://localhost:8080/",
          "height": 35
        },
        "id": "vQ77f2H_xAg4",
        "outputId": "5d3fb6f2-8109-43a8-8f66-1f27c6b9a4ab"
      },
      "execution_count": 2,
      "outputs": [
        {
          "output_type": "execute_result",
          "data": {
            "application/vnd.google.colaboratory.intrinsic+json": {
              "type": "string"
            },
            "text/plain": [
              "'Mike'"
            ]
          },
          "metadata": {},
          "execution_count": 2
        }
      ]
    },
    {
      "cell_type": "code",
      "source": [
        "dict1\n"
      ],
      "metadata": {
        "colab": {
          "base_uri": "https://localhost:8080/"
        },
        "id": "ovqC5TMDxMlY",
        "outputId": "abe173f3-18ec-416d-e1e5-46af2c27da9f"
      },
      "execution_count": 3,
      "outputs": [
        {
          "output_type": "execute_result",
          "data": {
            "text/plain": [
              "{'april_batch': {'student': {'marks': {'maths': 70, 'python': 80},\n",
              "   'name': 'Mike'}}}"
            ]
          },
          "metadata": {},
          "execution_count": 3
        }
      ]
    },
    {
      "cell_type": "code",
      "source": [
        "dict1['april_batch']['student']['marks']['python']\n"
      ],
      "metadata": {
        "colab": {
          "base_uri": "https://localhost:8080/"
        },
        "id": "uOU8uJNPxQFO",
        "outputId": "356eec9a-152c-411a-ec53-2f12a4ed11b5"
      },
      "execution_count": 5,
      "outputs": [
        {
          "output_type": "execute_result",
          "data": {
            "text/plain": [
              "80"
            ]
          },
          "metadata": {},
          "execution_count": 5
        }
      ]
    },
    {
      "cell_type": "code",
      "source": [
        "dict1"
      ],
      "metadata": {
        "colab": {
          "base_uri": "https://localhost:8080/"
        },
        "id": "pxsajBB_xxdy",
        "outputId": "66bac2ec-15cd-46bf-8464-78384b105d4c"
      },
      "execution_count": 6,
      "outputs": [
        {
          "output_type": "execute_result",
          "data": {
            "text/plain": [
              "{'april_batch': {'student': {'marks': {'maths': 70, 'python': 80},\n",
              "   'name': 'Mike'}}}"
            ]
          },
          "metadata": {},
          "execution_count": 6
        }
      ]
    },
    {
      "cell_type": "code",
      "source": [
        "dict1['april_batch']['student']['marks']['ML']=80\n"
      ],
      "metadata": {
        "id": "4GEli_i6x392"
      },
      "execution_count": 8,
      "outputs": []
    },
    {
      "cell_type": "code",
      "source": [
        "dict1['april_batch']['student']['marks']['DL']=80\n",
        "\n",
        "\n"
      ],
      "metadata": {
        "id": "fqCYmeFkzFIS"
      },
      "execution_count": 10,
      "outputs": []
    },
    {
      "cell_type": "code",
      "source": [
        "dict1"
      ],
      "metadata": {
        "colab": {
          "base_uri": "https://localhost:8080/"
        },
        "id": "pliNWBcwzPrE",
        "outputId": "9e077f4c-837a-45b0-f2b5-beb90b63a717"
      },
      "execution_count": 11,
      "outputs": [
        {
          "output_type": "execute_result",
          "data": {
            "text/plain": [
              "{'april_batch': {'student': {'marks': {'DL': 80,\n",
              "    'ML': 80,\n",
              "    'maths': 70,\n",
              "    'python': 80},\n",
              "   'name': 'Mike'}}}"
            ]
          },
          "metadata": {},
          "execution_count": 11
        }
      ]
    },
    {
      "cell_type": "code",
      "source": [
        ""
      ],
      "metadata": {
        "id": "2QEaWEOtzo8b"
      },
      "execution_count": null,
      "outputs": []
    }
  ]
}